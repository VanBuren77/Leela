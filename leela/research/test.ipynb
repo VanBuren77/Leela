{
 "cells": [
  {
   "cell_type": "code",
   "execution_count": 2,
   "metadata": {},
   "outputs": [],
   "source": [
    "import pandas as pd\n",
    "import numpy as np\n",
    "from leela.database.database import Database\n",
    "import matplotlib.pyplot as plt"
   ]
  },
  {
   "cell_type": "code",
   "execution_count": 3,
   "metadata": {},
   "outputs": [
    {
     "name": "stderr",
     "output_type": "stream",
     "text": [
      "C:\\Users\\evanl\\AppData\\Local\\Temp\\ipykernel_3848\\2345394058.py:2: DtypeWarning: Columns (106) have mixed types. Specify dtype option on import or set low_memory=False.\n",
      "  data = pd.read_csv(r\"C:\\Projects\\GitHub\\Leela\\leela\\research\\Nikita\\data\\30_yr.csv\", index_col=0)\n"
     ]
    }
   ],
   "source": [
    "# data = pd.read_csv(r\"C:\\Projects\\GitHub\\Leela\\leela\\research\\Nikita\\data\\sample.csv\",index_col=0)\n",
    "data = pd.read_csv(r\"C:\\Projects\\GitHub\\Leela\\leela\\research\\Nikita\\data\\30_yr.csv\", index_col=0)\n",
    "# data = Database.query_db(\"select * from fannie_processed where loan_id = '000097568237'\")\n",
    "# data = data.set_index(\"monthly_reporting_period\").sort_index()\n",
    "data = data.set_index(\"monthly_reporting_period\")"
   ]
  },
  {
   "cell_type": "code",
   "execution_count": 20,
   "metadata": {},
   "outputs": [],
   "source": [
    "# dropped_columns = [\"reference_pool_id\", \"master_servicer\", \n",
    "                #   \"mortgage_margin\", 'upb_at_issuance', 'channel', 'seller_name']\n",
    "\n",
    "# data[[x for x in data.columns if x not in dropped_columns]]"
   ]
  },
  {
   "cell_type": "code",
   "execution_count": 34,
   "metadata": {},
   "outputs": [
    {
     "name": "stdout",
     "output_type": "stream",
     "text": [
      "['reference_pool_id', 'loan_id', 'channel', 'seller_name', 'servicer_name', 'master_servicer', 'original_interest_rate', 'current_interest_rate', 'original_upb', 'upb_at_issuance', 'current_actual_upb', 'original_loan_term', 'origination_date', 'first_payment_date', 'loan_age', 'remaining_months_to_legal_maturity', 'remaining_months_to_maturitry', 'maturity_date', 'oltv', 'ocltv', 'number_of_borrowers', 'dti', 'borrower_credit_score_at_origination', 'coborrower_credit_score_at_origination', 'first_time_buyer_flag', 'loan_purpose', 'property_type', 'number_of_units', 'occupancy_status', 'property_state', 'msa', 'zip_code_short', 'mortgage_insurance_pct', 'amortization_type', 'prepayment_penalty_indicator', 'interest_only_indicator', 'interest_only_first_prin_and_int_pay_dt', 'months_to_amortization', 'current_loan_delinq_status', 'loan_payment_history', 'modification_flag', 'mortgage_insurance_cancellation_indicator', 'zero_balance_code', 'zero_balance_effective_date', 'upb_at_time_of_removal', 'repurchase_date', 'scheduled_principcal_current', 'total_principal_current', 'unscheduled_principal_current', 'last_paid_installment_date', 'foreclosure_date', 'disposition_date', 'foreclosure_costs', 'property_preservation_and_repair_costs', 'asset_recovery_costs', 'misc_holding_expenses_and_credit', 'associated_taxes_for_holding_property', 'net_sales_proceeds', 'credit_enhancement_proceeds', 'repurchase_make_whole_proceeds', 'other_foreclosure_proceeds', 'non_interest_bearing_upb', 'principal_forgiveness_amount', 'original_list_start_date', 'original_list_price', 'current_list_start_date', 'current_list_price', 'borrower_credit_score_at_issuance', 'coborrower_credit_score_at_issuance', 'borrower_credit_score_current', 'coborrower_credit_score_current', 'mortgage_insurance_type', 'servicing_activity_indicator', 'current_period_modification_loss_amount', 'cumulative_modification_loss_amount', 'current_period_credit_event_net_gain_or_loss', 'cumulative_credit_event_net_gain_or_loss', 'home_ready_program_indicator', 'foreclosure_principcal_write_off_amount', 'relocation_mortgage_indicator', 'zero_balance_code_change_date', 'loan_holdback_indicator', 'loan_holdback_effective_date', 'delinquent_accrued_interest', 'property_valuation_method', 'high_balance_loan_indicator', 'arm_init_fixed_rate_period_5yr', 'arm_product_type', 'initial_fixed_rate_period', 'interest_rate_adj_freq', 'next_interest_rate_adj_date', 'next_payment_change_date', 'index_col', 'arm_cap_structure', 'initial_interest_rate_cap_up_pct', 'periodic_interest_rate_cap_up_pct', 'lifetime_interest_rate_cap_up_pct', 'mortgage_margin', 'arm_balloon_indicator', 'arm_plan_number', 'borrower_assistance_plan', 'hltv_refi_option_indicator', 'deal_name', 'repurchase_make_whole_proceeds_flag', 'alternative_delinq_resolution', 'alternative_delinq_resolution_count', 'total_deferral_amount']\n"
     ]
    }
   ],
   "source": [
    "print(list(data.columns))"
   ]
  },
  {
   "cell_type": "code",
   "execution_count": 59,
   "metadata": {},
   "outputs": [
    {
     "data": {
      "text/html": [
       "<div>\n",
       "<style scoped>\n",
       "    .dataframe tbody tr th:only-of-type {\n",
       "        vertical-align: middle;\n",
       "    }\n",
       "\n",
       "    .dataframe tbody tr th {\n",
       "        vertical-align: top;\n",
       "    }\n",
       "\n",
       "    .dataframe thead th {\n",
       "        text-align: right;\n",
       "    }\n",
       "</style>\n",
       "<table border=\"1\" class=\"dataframe\">\n",
       "  <thead>\n",
       "    <tr style=\"text-align: right;\">\n",
       "      <th></th>\n",
       "      <th>current_actual_upb</th>\n",
       "      <th>original_upb</th>\n",
       "    </tr>\n",
       "    <tr>\n",
       "      <th>monthly_reporting_period</th>\n",
       "      <th></th>\n",
       "      <th></th>\n",
       "    </tr>\n",
       "  </thead>\n",
       "  <tbody>\n",
       "    <tr>\n",
       "      <th>2021-03-01</th>\n",
       "      <td>209617.19</td>\n",
       "      <td>213000.0</td>\n",
       "    </tr>\n",
       "    <tr>\n",
       "      <th>2021-04-01</th>\n",
       "      <td>209257.20</td>\n",
       "      <td>213000.0</td>\n",
       "    </tr>\n",
       "    <tr>\n",
       "      <th>2021-05-01</th>\n",
       "      <td>208896.24</td>\n",
       "      <td>213000.0</td>\n",
       "    </tr>\n",
       "    <tr>\n",
       "      <th>2021-06-01</th>\n",
       "      <td>208534.30</td>\n",
       "      <td>213000.0</td>\n",
       "    </tr>\n",
       "    <tr>\n",
       "      <th>2021-07-01</th>\n",
       "      <td>208171.38</td>\n",
       "      <td>213000.0</td>\n",
       "    </tr>\n",
       "    <tr>\n",
       "      <th>2021-08-01</th>\n",
       "      <td>207807.48</td>\n",
       "      <td>213000.0</td>\n",
       "    </tr>\n",
       "    <tr>\n",
       "      <th>2021-09-01</th>\n",
       "      <td>207442.59</td>\n",
       "      <td>213000.0</td>\n",
       "    </tr>\n",
       "    <tr>\n",
       "      <th>2021-10-01</th>\n",
       "      <td>207076.71</td>\n",
       "      <td>213000.0</td>\n",
       "    </tr>\n",
       "    <tr>\n",
       "      <th>2021-11-01</th>\n",
       "      <td>206709.84</td>\n",
       "      <td>213000.0</td>\n",
       "    </tr>\n",
       "    <tr>\n",
       "      <th>2021-12-01</th>\n",
       "      <td>206341.98</td>\n",
       "      <td>213000.0</td>\n",
       "    </tr>\n",
       "  </tbody>\n",
       "</table>\n",
       "</div>"
      ],
      "text/plain": [
       "                          current_actual_upb  original_upb\n",
       "monthly_reporting_period                                  \n",
       "2021-03-01                         209617.19      213000.0\n",
       "2021-04-01                         209257.20      213000.0\n",
       "2021-05-01                         208896.24      213000.0\n",
       "2021-06-01                         208534.30      213000.0\n",
       "2021-07-01                         208171.38      213000.0\n",
       "2021-08-01                         207807.48      213000.0\n",
       "2021-09-01                         207442.59      213000.0\n",
       "2021-10-01                         207076.71      213000.0\n",
       "2021-11-01                         206709.84      213000.0\n",
       "2021-12-01                         206341.98      213000.0"
      ]
     },
     "execution_count": 59,
     "metadata": {},
     "output_type": "execute_result"
    }
   ],
   "source": [
    "smm_columns = [\"current_actual_upb\", \"original_upb\", \"scheduled_principcal_current\", \"total_principal_current\", \"unscheduled_principal_current\"]\n",
    "sample[smm_columns]"
   ]
  },
  {
   "cell_type": "code",
   "execution_count": 36,
   "metadata": {},
   "outputs": [
    {
     "data": {
      "text/plain": [
       "<AxesSubplot:xlabel='monthly_reporting_period'>"
      ]
     },
     "execution_count": 36,
     "metadata": {},
     "output_type": "execute_result"
    },
    {
     "data": {
      "image/png": "[encoded data removed]",
      "text/plain": [
       "<Figure size 432x288 with 1 Axes>"
      ]
     },
     "metadata": {
      "needs_background": "light"
     },
     "output_type": "display_data"
    }
   ],
   "source": [
    "data[\"mortgage_insurance_pct\"].groupby(\"monthly_reporting_period\").mean().plot()"
   ]
  },
  {
   "cell_type": "code",
   "execution_count": 40,
   "metadata": {},
   "outputs": [],
   "source": [
    "sample = data[data[\"loan_id\"] == 99761926].copy()"
   ]
  },
  {
   "cell_type": "code",
   "execution_count": 45,
   "metadata": {},
   "outputs": [],
   "source": [
    "sample = sample.sort_index()"
   ]
  },
  {
   "cell_type": "code",
   "execution_count": null,
   "metadata": {},
   "outputs": [],
   "source": []
  },
  {
   "cell_type": "code",
   "execution_count": 51,
   "metadata": {},
   "outputs": [
    {
     "data": {
      "text/plain": [
       "Index(['2021-03-01', '2021-04-01', '2021-05-01', '2021-06-01', '2021-07-01',\n",
       "       '2021-08-01', '2021-09-01', '2021-10-01', '2021-11-01', '2021-12-01'],\n",
       "      dtype='object', name='monthly_reporting_period')"
      ]
     },
     "execution_count": 51,
     "metadata": {},
     "output_type": "execute_result"
    }
   ],
   "source": [
    "data.index.unique().sort_values()"
   ]
  },
  {
   "cell_type": "code",
   "execution_count": 52,
   "metadata": {},
   "outputs": [
    {
     "data": {
      "text/plain": [
       "Index(['2021-12-01', '2021-11-01', '2021-10-01', '2021-09-01', '2021-08-01',\n",
       "       '2021-07-01', '2021-06-01', '2021-05-01', '2021-04-01', '2021-03-01'],\n",
       "      dtype='object', name='monthly_reporting_period')"
      ]
     },
     "execution_count": 52,
     "metadata": {},
     "output_type": "execute_result"
    }
   ],
   "source": []
  }
 ],
 "metadata": {
  "kernelspec": {
   "display_name": "Python 3.10.4 ('leela')",
   "language": "python",
   "name": "python3"
  },
  "language_info": {
   "codemirror_mode": {
    "name": "ipython",
    "version": 3
   },
   "file_extension": ".py",
   "mimetype": "text/x-python",
   "name": "python",
   "nbconvert_exporter": "python",
   "pygments_lexer": "ipython3",
   "version": "3.10.4"
  },
  "orig_nbformat": 4,
  "vscode": {
   "interpreter": {
    "hash": "d27d67f8d03d6b97a81bd4c9ed2f6182c566b288050511c131cec6a6c696d41c"
   }
  }
 },
 "nbformat": 4,
 "nbformat_minor": 2
}
