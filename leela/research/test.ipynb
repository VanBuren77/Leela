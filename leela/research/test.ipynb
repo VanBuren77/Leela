{
 "cells": [
  {
   "cell_type": "code",
   "execution_count": 1,
   "metadata": {},
   "outputs": [],
   "source": [
    "import pandas as pd\n",
    "import numpy as np\n",
    "from leela.database.database import Database\n",
    "import matplotlib.pyplot as plt"
   ]
  },
  {
   "cell_type": "code",
   "execution_count": 2,
   "metadata": {},
   "outputs": [
    {
     "name": "stdout",
     "output_type": "stream",
     "text": [
      "\n",
      "-----------------------------\n",
      "PostgreSQL server information\n",
      "-----------------------------\n",
      "You are connected to -  ('PostgreSQL 14.2, compiled by Visual C++ build 1914, 64-bit',) \n",
      "\n"
     ]
    },
    {
     "name": "stderr",
     "output_type": "stream",
     "text": [
      "c:\\Users\\evanl\\anaconda3\\envs\\leela\\lib\\site-packages\\pandas\\io\\sql.py:761: UserWarning: pandas only support SQLAlchemy connectable(engine/connection) ordatabase string URI or sqlite3 DBAPI2 connectionother DBAPI2 objects are not tested, please consider using SQLAlchemy\n",
      "  warnings.warn(\n"
     ]
    }
   ],
   "source": [
    "fannie_mae_sf_sample = pd.read_csv(r\"C:\\Projects\\GitHub\\Leela\\data\\Fannie\\sf-loan-performance-data-sample_orig.csv\", delimiter=\"|\")\n",
    "fannie_mae_sf_sample.columns = Database.query_db(\"select * from raw_fannie limit 1\").columns"
   ]
  },
  {
   "cell_type": "code",
   "execution_count": 3,
   "metadata": {},
   "outputs": [
    {
     "data": {
      "text/plain": [
       "upb_at_issuance    756\n",
       "dtype: int64"
      ]
     },
     "execution_count": 3,
     "metadata": {},
     "output_type": "execute_result"
    }
   ],
   "source": [
    "fannie_mae_sf_sample[[\"upb_at_issuance\"]].isna().sum()"
   ]
  },
  {
   "cell_type": "code",
   "execution_count": 4,
   "metadata": {},
   "outputs": [
    {
     "name": "stdout",
     "output_type": "stream",
     "text": [
      "['reference_pool_id', 'loan_id', 'monthly_reporting_period', 'channel', 'seller_name', 'servicer_name', 'master_servicer', 'original_interest_rate', 'current_interest_rate', 'original_upb', 'upb_at_issuance', 'current_actual_upb', 'original_loan_term', 'origination_date', 'first_payment_date', 'loan_age', 'remaining_months_to_legal_maturity', 'remaining_months_to_maturitry', 'maturity_date', 'oltv', 'ocltv', 'number_of_borrowers', 'dti', 'borrower_credit_score_at_origination', 'coborrower_credit_score_at_origination', 'first_time_buyer_flag', 'loan_purpose', 'property_type', 'number_of_units', 'occupancy_status', 'property_state', 'msa', 'zip_code_short', 'mortgage_insurance_pct', 'amortization_type', 'prepayment_penalty_indicator', 'interest_only_indicator', 'interest_only_first_prin_and_int_pay_dt', 'months_to_amortization', 'current_loan_delinq_status', 'loan_payment_history', 'modification_flag', 'mortgage_insurance_cancellation_indicator', 'zero_balance_code', 'zero_balance_effective_date', 'upb_at_time_of_removal', 'repurchase_date', 'scheduled_principcal_current', 'total_principal_current', 'unscheduled_principal_current', 'last_paid_installment_date', 'foreclosure_date', 'disposition_date', 'foreclosure_costs', 'property_preservation_and_repair_costs', 'asset_recovery_costs', 'misc_holding_expenses_and_credit', 'associated_taxes_for_holding_property', 'net_sales_proceeds', 'credit_enhancement_proceeds', 'repurchase_make_whole_proceeds', 'other_foreclosure_proceeds', 'non_interest_bearing_upb', 'principal_forgiveness_amount', 'original_list_start_date', 'original_list_price', 'current_list_start_date', 'current_list_price', 'borrower_credit_score_at_issuance', 'coborrower_credit_score_at_issuance', 'borrower_credit_score_current', 'coborrower_credit_score_current', 'mortgage_insurance_type', 'servicing_activity_indicator', 'current_period_modification_loss_amount', 'cumulative_modification_loss_amount', 'current_period_credit_event_net_gain_or_loss', 'cumulative_credit_event_net_gain_or_loss', 'home_ready_program_indicator', 'foreclosure_principcal_write_off_amount', 'relocation_mortgage_indicator', 'zero_balance_code_change_date', 'loan_holdback_indicator', 'loan_holdback_effective_date', 'delinquent_accrued_interest', 'property_valuation_method', 'high_balance_loan_indicator', 'arm_init_fixed_rate_period_5yr', 'arm_product_type', 'initial_fixed_rate_period', 'interest_rate_adj_freq', 'next_interest_rate_adj_date', 'next_payment_change_date', 'index_col', 'arm_cap_structure', 'initial_interest_rate_cap_up_pct', 'periodic_interest_rate_cap_up_pct', 'lifetime_interest_rate_cap_up_pct', 'mortgage_margin', 'arm_balloon_indicator', 'arm_plan_number', 'borrower_assistance_plan', 'hltv_refi_option_indicator', 'deal_name', 'repurchase_make_whole_proceeds_flag', 'alternative_delinq_resolution', 'alternative_delinq_resolution_count', 'total_deferral_amount']\n"
     ]
    }
   ],
   "source": [
    "print(list(fannie_mae_sf_sample.columns))"
   ]
  },
  {
   "cell_type": "code",
   "execution_count": 5,
   "metadata": {},
   "outputs": [
    {
     "data": {
      "text/html": [
       "<div>\n",
       "<style scoped>\n",
       "    .dataframe tbody tr th:only-of-type {\n",
       "        vertical-align: middle;\n",
       "    }\n",
       "\n",
       "    .dataframe tbody tr th {\n",
       "        vertical-align: top;\n",
       "    }\n",
       "\n",
       "    .dataframe thead th {\n",
       "        text-align: right;\n",
       "    }\n",
       "</style>\n",
       "<table border=\"1\" class=\"dataframe\">\n",
       "  <thead>\n",
       "    <tr style=\"text-align: right;\">\n",
       "      <th></th>\n",
       "      <th>scheduled_principcal_current</th>\n",
       "      <th>total_principal_current</th>\n",
       "      <th>unscheduled_principal_current</th>\n",
       "    </tr>\n",
       "  </thead>\n",
       "  <tbody>\n",
       "    <tr>\n",
       "      <th>0</th>\n",
       "      <td>NaN</td>\n",
       "      <td>NaN</td>\n",
       "      <td>NaN</td>\n",
       "    </tr>\n",
       "    <tr>\n",
       "      <th>1</th>\n",
       "      <td>NaN</td>\n",
       "      <td>NaN</td>\n",
       "      <td>NaN</td>\n",
       "    </tr>\n",
       "    <tr>\n",
       "      <th>2</th>\n",
       "      <td>NaN</td>\n",
       "      <td>NaN</td>\n",
       "      <td>NaN</td>\n",
       "    </tr>\n",
       "    <tr>\n",
       "      <th>3</th>\n",
       "      <td>NaN</td>\n",
       "      <td>NaN</td>\n",
       "      <td>NaN</td>\n",
       "    </tr>\n",
       "    <tr>\n",
       "      <th>4</th>\n",
       "      <td>NaN</td>\n",
       "      <td>NaN</td>\n",
       "      <td>NaN</td>\n",
       "    </tr>\n",
       "    <tr>\n",
       "      <th>...</th>\n",
       "      <td>...</td>\n",
       "      <td>...</td>\n",
       "      <td>...</td>\n",
       "    </tr>\n",
       "    <tr>\n",
       "      <th>751</th>\n",
       "      <td>NaN</td>\n",
       "      <td>NaN</td>\n",
       "      <td>NaN</td>\n",
       "    </tr>\n",
       "    <tr>\n",
       "      <th>752</th>\n",
       "      <td>NaN</td>\n",
       "      <td>NaN</td>\n",
       "      <td>NaN</td>\n",
       "    </tr>\n",
       "    <tr>\n",
       "      <th>753</th>\n",
       "      <td>NaN</td>\n",
       "      <td>NaN</td>\n",
       "      <td>NaN</td>\n",
       "    </tr>\n",
       "    <tr>\n",
       "      <th>754</th>\n",
       "      <td>NaN</td>\n",
       "      <td>317.64</td>\n",
       "      <td>NaN</td>\n",
       "    </tr>\n",
       "    <tr>\n",
       "      <th>755</th>\n",
       "      <td>NaN</td>\n",
       "      <td>318.80</td>\n",
       "      <td>NaN</td>\n",
       "    </tr>\n",
       "  </tbody>\n",
       "</table>\n",
       "<p>756 rows × 3 columns</p>\n",
       "</div>"
      ],
      "text/plain": [
       "     scheduled_principcal_current  total_principal_current  \\\n",
       "0                             NaN                      NaN   \n",
       "1                             NaN                      NaN   \n",
       "2                             NaN                      NaN   \n",
       "3                             NaN                      NaN   \n",
       "4                             NaN                      NaN   \n",
       "..                            ...                      ...   \n",
       "751                           NaN                      NaN   \n",
       "752                           NaN                      NaN   \n",
       "753                           NaN                      NaN   \n",
       "754                           NaN                   317.64   \n",
       "755                           NaN                   318.80   \n",
       "\n",
       "     unscheduled_principal_current  \n",
       "0                              NaN  \n",
       "1                              NaN  \n",
       "2                              NaN  \n",
       "3                              NaN  \n",
       "4                              NaN  \n",
       "..                             ...  \n",
       "751                            NaN  \n",
       "752                            NaN  \n",
       "753                            NaN  \n",
       "754                            NaN  \n",
       "755                            NaN  \n",
       "\n",
       "[756 rows x 3 columns]"
      ]
     },
     "execution_count": 5,
     "metadata": {},
     "output_type": "execute_result"
    }
   ],
   "source": [
    "# fannie_mae_sf_sample[[\"scheduled_principcal_current\"]].isna().sum()\n",
    "fannie_mae_sf_sample[[\"scheduled_principcal_current\", \"total_principal_current\", \"unscheduled_principal_current\"]]"
   ]
  },
  {
   "cell_type": "code",
   "execution_count": 17,
   "metadata": {},
   "outputs": [
    {
     "name": "stdout",
     "output_type": "stream",
     "text": [
      "\n",
      "-----------------------------\n",
      "PostgreSQL server information\n",
      "-----------------------------\n",
      "You are connected to -  ('PostgreSQL 14.2, compiled by Visual C++ build 1914, 64-bit',) \n",
      "\n"
     ]
    },
    {
     "name": "stderr",
     "output_type": "stream",
     "text": [
      "c:\\Users\\evanl\\anaconda3\\envs\\leela\\lib\\site-packages\\pandas\\io\\sql.py:761: UserWarning: pandas only support SQLAlchemy connectable(engine/connection) ordatabase string URI or sqlite3 DBAPI2 connectionother DBAPI2 objects are not tested, please consider using SQLAlchemy\n",
      "  warnings.warn(\n"
     ]
    },
    {
     "data": {
      "text/html": [
       "<div>\n",
       "<style scoped>\n",
       "    .dataframe tbody tr th:only-of-type {\n",
       "        vertical-align: middle;\n",
       "    }\n",
       "\n",
       "    .dataframe tbody tr th {\n",
       "        vertical-align: top;\n",
       "    }\n",
       "\n",
       "    .dataframe thead th {\n",
       "        text-align: right;\n",
       "    }\n",
       "</style>\n",
       "<table border=\"1\" class=\"dataframe\">\n",
       "  <thead>\n",
       "    <tr style=\"text-align: right;\">\n",
       "      <th></th>\n",
       "      <th>reference_pool_id</th>\n",
       "      <th>loan_id</th>\n",
       "      <th>monthly_reporting_period</th>\n",
       "      <th>channel</th>\n",
       "      <th>seller_name</th>\n",
       "      <th>servicer_name</th>\n",
       "      <th>master_servicer</th>\n",
       "      <th>original_interest_rate</th>\n",
       "      <th>current_interest_rate</th>\n",
       "      <th>original_upb</th>\n",
       "      <th>...</th>\n",
       "      <th>mortgage_margin</th>\n",
       "      <th>arm_balloon_indicator</th>\n",
       "      <th>arm_plan_number</th>\n",
       "      <th>borrower_assistance_plan</th>\n",
       "      <th>hltv_refi_option_indicator</th>\n",
       "      <th>deal_name</th>\n",
       "      <th>repurchase_make_whole_proceeds_flag</th>\n",
       "      <th>alternative_delinq_resolution</th>\n",
       "      <th>alternative_delinq_resolution_count</th>\n",
       "      <th>total_deferral_amount</th>\n",
       "    </tr>\n",
       "  </thead>\n",
       "  <tbody>\n",
       "    <tr>\n",
       "      <th>0</th>\n",
       "      <td>None</td>\n",
       "      <td>417921952758</td>\n",
       "      <td>2021-07-01</td>\n",
       "      <td>C</td>\n",
       "      <td>Other</td>\n",
       "      <td>PennyMac Corp.</td>\n",
       "      <td>None</td>\n",
       "      <td>3.5</td>\n",
       "      <td>3.5</td>\n",
       "      <td>118000.0</td>\n",
       "      <td>...</td>\n",
       "      <td>None</td>\n",
       "      <td>None</td>\n",
       "      <td>None</td>\n",
       "      <td>7</td>\n",
       "      <td>N</td>\n",
       "      <td>None</td>\n",
       "      <td>None</td>\n",
       "      <td>7</td>\n",
       "      <td>None</td>\n",
       "      <td>None</td>\n",
       "    </tr>\n",
       "  </tbody>\n",
       "</table>\n",
       "<p>1 rows × 108 columns</p>\n",
       "</div>"
      ],
      "text/plain": [
       "  reference_pool_id       loan_id monthly_reporting_period channel  \\\n",
       "0              None  417921952758               2021-07-01       C   \n",
       "\n",
       "  seller_name   servicer_name master_servicer  original_interest_rate  \\\n",
       "0       Other  PennyMac Corp.            None                     3.5   \n",
       "\n",
       "   current_interest_rate  original_upb  ... mortgage_margin  \\\n",
       "0                    3.5      118000.0  ...            None   \n",
       "\n",
       "   arm_balloon_indicator  arm_plan_number borrower_assistance_plan  \\\n",
       "0                   None             None                        7   \n",
       "\n",
       "  hltv_refi_option_indicator  deal_name  repurchase_make_whole_proceeds_flag  \\\n",
       "0                          N       None                                 None   \n",
       "\n",
       "   alternative_delinq_resolution alternative_delinq_resolution_count  \\\n",
       "0                              7                                None   \n",
       "\n",
       "   total_deferral_amount  \n",
       "0                   None  \n",
       "\n",
       "[1 rows x 108 columns]"
      ]
     },
     "execution_count": 17,
     "metadata": {},
     "output_type": "execute_result"
    }
   ],
   "source": [
    "# temp = Database.query_db(\"select * from fannie_processed where loan_id = '000128090408'\")\n",
    "# temp = Database.query_db(\"select * from fannie_processed order by random() limit 1\")\n",
    "temp = Database.query_db(\"\"\"select * from fannie_processed \n",
    "                                where monthly_reporting_period = '2021-07-01'\n",
    "                            and loan_age > 21\n",
    "                        order by random () limit 1\"\"\")\n",
    "temp"
   ]
  },
  {
   "cell_type": "code",
   "execution_count": 22,
   "metadata": {},
   "outputs": [
    {
     "name": "stdout",
     "output_type": "stream",
     "text": [
      "\n",
      "-----------------------------\n",
      "PostgreSQL server information\n",
      "-----------------------------\n",
      "You are connected to -  ('PostgreSQL 14.2, compiled by Visual C++ build 1914, 64-bit',) \n",
      "\n"
     ]
    },
    {
     "name": "stderr",
     "output_type": "stream",
     "text": [
      "c:\\Users\\evanl\\anaconda3\\envs\\leela\\lib\\site-packages\\pandas\\io\\sql.py:761: UserWarning: pandas only support SQLAlchemy connectable(engine/connection) ordatabase string URI or sqlite3 DBAPI2 connectionother DBAPI2 objects are not tested, please consider using SQLAlchemy\n",
      "  warnings.warn(\n"
     ]
    },
    {
     "data": {
      "text/html": [
       "<div>\n",
       "<style scoped>\n",
       "    .dataframe tbody tr th:only-of-type {\n",
       "        vertical-align: middle;\n",
       "    }\n",
       "\n",
       "    .dataframe tbody tr th {\n",
       "        vertical-align: top;\n",
       "    }\n",
       "\n",
       "    .dataframe thead th {\n",
       "        text-align: right;\n",
       "    }\n",
       "</style>\n",
       "<table border=\"1\" class=\"dataframe\">\n",
       "  <thead>\n",
       "    <tr style=\"text-align: right;\">\n",
       "      <th></th>\n",
       "      <th>reference_pool_id</th>\n",
       "      <th>loan_id</th>\n",
       "      <th>monthly_reporting_period</th>\n",
       "      <th>channel</th>\n",
       "      <th>seller_name</th>\n",
       "      <th>servicer_name</th>\n",
       "      <th>master_servicer</th>\n",
       "      <th>original_interest_rate</th>\n",
       "      <th>current_interest_rate</th>\n",
       "      <th>original_upb</th>\n",
       "      <th>...</th>\n",
       "      <th>mortgage_margin</th>\n",
       "      <th>arm_balloon_indicator</th>\n",
       "      <th>arm_plan_number</th>\n",
       "      <th>borrower_assistance_plan</th>\n",
       "      <th>hltv_refi_option_indicator</th>\n",
       "      <th>deal_name</th>\n",
       "      <th>repurchase_make_whole_proceeds_flag</th>\n",
       "      <th>alternative_delinq_resolution</th>\n",
       "      <th>alternative_delinq_resolution_count</th>\n",
       "      <th>total_deferral_amount</th>\n",
       "    </tr>\n",
       "  </thead>\n",
       "  <tbody>\n",
       "    <tr>\n",
       "      <th>0</th>\n",
       "      <td>None</td>\n",
       "      <td>417921952758</td>\n",
       "      <td>2017-10-01</td>\n",
       "      <td>C</td>\n",
       "      <td>Other</td>\n",
       "      <td>Pennymac Corp.</td>\n",
       "      <td>None</td>\n",
       "      <td>3.5</td>\n",
       "      <td>3.5</td>\n",
       "      <td>118000.0</td>\n",
       "      <td>...</td>\n",
       "      <td>None</td>\n",
       "      <td>None</td>\n",
       "      <td>None</td>\n",
       "      <td>None</td>\n",
       "      <td>N</td>\n",
       "      <td>None</td>\n",
       "      <td>None</td>\n",
       "      <td>None</td>\n",
       "      <td>None</td>\n",
       "      <td>None</td>\n",
       "    </tr>\n",
       "    <tr>\n",
       "      <th>1</th>\n",
       "      <td>None</td>\n",
       "      <td>417921952758</td>\n",
       "      <td>2017-11-01</td>\n",
       "      <td>C</td>\n",
       "      <td>Other</td>\n",
       "      <td>Pennymac Corp.</td>\n",
       "      <td>None</td>\n",
       "      <td>3.5</td>\n",
       "      <td>3.5</td>\n",
       "      <td>118000.0</td>\n",
       "      <td>...</td>\n",
       "      <td>None</td>\n",
       "      <td>None</td>\n",
       "      <td>None</td>\n",
       "      <td>None</td>\n",
       "      <td>N</td>\n",
       "      <td>None</td>\n",
       "      <td>None</td>\n",
       "      <td>None</td>\n",
       "      <td>None</td>\n",
       "      <td>None</td>\n",
       "    </tr>\n",
       "    <tr>\n",
       "      <th>2</th>\n",
       "      <td>None</td>\n",
       "      <td>417921952758</td>\n",
       "      <td>2017-12-01</td>\n",
       "      <td>C</td>\n",
       "      <td>Other</td>\n",
       "      <td>Pennymac Corp.</td>\n",
       "      <td>None</td>\n",
       "      <td>3.5</td>\n",
       "      <td>3.5</td>\n",
       "      <td>118000.0</td>\n",
       "      <td>...</td>\n",
       "      <td>None</td>\n",
       "      <td>None</td>\n",
       "      <td>None</td>\n",
       "      <td>None</td>\n",
       "      <td>N</td>\n",
       "      <td>None</td>\n",
       "      <td>None</td>\n",
       "      <td>None</td>\n",
       "      <td>None</td>\n",
       "      <td>None</td>\n",
       "    </tr>\n",
       "    <tr>\n",
       "      <th>3</th>\n",
       "      <td>None</td>\n",
       "      <td>417921952758</td>\n",
       "      <td>2018-01-01</td>\n",
       "      <td>C</td>\n",
       "      <td>Other</td>\n",
       "      <td>Pennymac Corp.</td>\n",
       "      <td>None</td>\n",
       "      <td>3.5</td>\n",
       "      <td>3.5</td>\n",
       "      <td>118000.0</td>\n",
       "      <td>...</td>\n",
       "      <td>None</td>\n",
       "      <td>None</td>\n",
       "      <td>None</td>\n",
       "      <td>None</td>\n",
       "      <td>N</td>\n",
       "      <td>None</td>\n",
       "      <td>None</td>\n",
       "      <td>None</td>\n",
       "      <td>None</td>\n",
       "      <td>None</td>\n",
       "    </tr>\n",
       "    <tr>\n",
       "      <th>4</th>\n",
       "      <td>None</td>\n",
       "      <td>417921952758</td>\n",
       "      <td>2018-02-01</td>\n",
       "      <td>C</td>\n",
       "      <td>Other</td>\n",
       "      <td>Pennymac Corp.</td>\n",
       "      <td>None</td>\n",
       "      <td>3.5</td>\n",
       "      <td>3.5</td>\n",
       "      <td>118000.0</td>\n",
       "      <td>...</td>\n",
       "      <td>None</td>\n",
       "      <td>None</td>\n",
       "      <td>None</td>\n",
       "      <td>None</td>\n",
       "      <td>N</td>\n",
       "      <td>None</td>\n",
       "      <td>None</td>\n",
       "      <td>None</td>\n",
       "      <td>None</td>\n",
       "      <td>None</td>\n",
       "    </tr>\n",
       "  </tbody>\n",
       "</table>\n",
       "<p>5 rows × 108 columns</p>\n",
       "</div>"
      ],
      "text/plain": [
       "  reference_pool_id       loan_id monthly_reporting_period channel  \\\n",
       "0              None  417921952758               2017-10-01       C   \n",
       "1              None  417921952758               2017-11-01       C   \n",
       "2              None  417921952758               2017-12-01       C   \n",
       "3              None  417921952758               2018-01-01       C   \n",
       "4              None  417921952758               2018-02-01       C   \n",
       "\n",
       "  seller_name   servicer_name master_servicer  original_interest_rate  \\\n",
       "0       Other  Pennymac Corp.            None                     3.5   \n",
       "1       Other  Pennymac Corp.            None                     3.5   \n",
       "2       Other  Pennymac Corp.            None                     3.5   \n",
       "3       Other  Pennymac Corp.            None                     3.5   \n",
       "4       Other  Pennymac Corp.            None                     3.5   \n",
       "\n",
       "   current_interest_rate  original_upb  ... mortgage_margin  \\\n",
       "0                    3.5      118000.0  ...            None   \n",
       "1                    3.5      118000.0  ...            None   \n",
       "2                    3.5      118000.0  ...            None   \n",
       "3                    3.5      118000.0  ...            None   \n",
       "4                    3.5      118000.0  ...            None   \n",
       "\n",
       "   arm_balloon_indicator  arm_plan_number borrower_assistance_plan  \\\n",
       "0                   None             None                     None   \n",
       "1                   None             None                     None   \n",
       "2                   None             None                     None   \n",
       "3                   None             None                     None   \n",
       "4                   None             None                     None   \n",
       "\n",
       "  hltv_refi_option_indicator  deal_name  repurchase_make_whole_proceeds_flag  \\\n",
       "0                          N       None                                 None   \n",
       "1                          N       None                                 None   \n",
       "2                          N       None                                 None   \n",
       "3                          N       None                                 None   \n",
       "4                          N       None                                 None   \n",
       "\n",
       "   alternative_delinq_resolution alternative_delinq_resolution_count  \\\n",
       "0                           None                                None   \n",
       "1                           None                                None   \n",
       "2                           None                                None   \n",
       "3                           None                                None   \n",
       "4                           None                                None   \n",
       "\n",
       "   total_deferral_amount  \n",
       "0                   None  \n",
       "1                   None  \n",
       "2                   None  \n",
       "3                   None  \n",
       "4                   None  \n",
       "\n",
       "[5 rows x 108 columns]"
      ]
     },
     "execution_count": 22,
     "metadata": {},
     "output_type": "execute_result"
    }
   ],
   "source": [
    "temp = Database.query_db(\"\"\"select * from fannie_processed where loan_id = '417921952758' order by monthly_reporting_period \"\"\")\n",
    "temp.head()"
   ]
  },
  {
   "cell_type": "code",
   "execution_count": 29,
   "metadata": {},
   "outputs": [
    {
     "name": "stdout",
     "output_type": "stream",
     "text": [
      "['reference_pool_id', 'loan_id', 'monthly_reporting_period', 'channel', 'seller_name', 'servicer_name', 'master_servicer', 'original_interest_rate', 'current_interest_rate', 'original_upb', 'upb_at_issuance', 'current_actual_upb', 'original_loan_term', 'origination_date', 'first_payment_date', 'loan_age', 'remaining_months_to_legal_maturity', 'remaining_months_to_maturitry', 'maturity_date', 'oltv', 'ocltv', 'number_of_borrowers', 'dti', 'borrower_credit_score_at_origination', 'coborrower_credit_score_at_origination', 'first_time_buyer_flag', 'loan_purpose', 'property_type', 'number_of_units', 'occupancy_status', 'property_state', 'msa', 'zip_code_short', 'mortgage_insurance_pct', 'amortization_type', 'prepayment_penalty_indicator', 'interest_only_indicator', 'interest_only_first_prin_and_int_pay_dt', 'months_to_amortization', 'current_loan_delinq_status', 'loan_payment_history', 'modification_flag', 'mortgage_insurance_cancellation_indicator', 'zero_balance_code', 'zero_balance_effective_date', 'upb_at_time_of_removal', 'repurchase_date', 'scheduled_principcal_current', 'total_principal_current', 'unscheduled_principal_current', 'last_paid_installment_date', 'foreclosure_date', 'disposition_date', 'foreclosure_costs', 'property_preservation_and_repair_costs', 'asset_recovery_costs', 'misc_holding_expenses_and_credit', 'associated_taxes_for_holding_property', 'net_sales_proceeds', 'credit_enhancement_proceeds', 'repurchase_make_whole_proceeds', 'other_foreclosure_proceeds', 'non_interest_bearing_upb', 'principal_forgiveness_amount', 'original_list_start_date', 'original_list_price', 'current_list_start_date', 'current_list_price', 'borrower_credit_score_at_issuance', 'coborrower_credit_score_at_issuance', 'borrower_credit_score_current', 'coborrower_credit_score_current', 'mortgage_insurance_type', 'servicing_activity_indicator', 'current_period_modification_loss_amount', 'cumulative_modification_loss_amount', 'current_period_credit_event_net_gain_or_loss', 'cumulative_credit_event_net_gain_or_loss', 'home_ready_program_indicator', 'foreclosure_principcal_write_off_amount', 'relocation_mortgage_indicator', 'zero_balance_code_change_date', 'loan_holdback_indicator', 'loan_holdback_effective_date', 'delinquent_accrued_interest', 'property_valuation_method', 'high_balance_loan_indicator', 'arm_init_fixed_rate_period_5yr', 'arm_product_type', 'initial_fixed_rate_period', 'interest_rate_adj_freq', 'next_interest_rate_adj_date', 'next_payment_change_date', 'index_col', 'arm_cap_structure', 'initial_interest_rate_cap_up_pct', 'periodic_interest_rate_cap_up_pct', 'lifetime_interest_rate_cap_up_pct', 'mortgage_margin', 'arm_balloon_indicator', 'arm_plan_number', 'borrower_assistance_plan', 'hltv_refi_option_indicator', 'deal_name', 'repurchase_make_whole_proceeds_flag', 'alternative_delinq_resolution', 'alternative_delinq_resolution_count', 'total_deferral_amount']\n"
     ]
    },
    {
     "data": {
      "text/plain": [
       "<AxesSubplot:xlabel='monthly_reporting_period'>"
      ]
     },
     "execution_count": 29,
     "metadata": {},
     "output_type": "execute_result"
    },
    {
     "data": {
      "image/png": "[encoded data removed]",
      "text/plain": [
       "<Figure size 432x288 with 1 Axes>"
      ]
     },
     "metadata": {
      "needs_background": "light"
     },
     "output_type": "display_data"
    }
   ],
   "source": [
    "print(list(temp.columns))\n",
    "temp.set_index(\"monthly_reporting_period\")[[\"current_actual_upb\",\n",
    "                                            \"unscheduled_principal_current\", \n",
    "                                            \"\",\n",
    "                                            \"\"\n",
    "                                            ]].iloc[6:]\n",
    "# temp.set_index(\"monthly_reporting_period\")[[\"current_actual_upb\",]].iloc[6:].plot()"
   ]
  },
  {
   "cell_type": "code",
   "execution_count": 8,
   "metadata": {},
   "outputs": [],
   "source": [
    "# data = pd.read_csv(r\"C:\\Projects\\GitHub\\Leela\\leela\\research\\Nikita\\data\\sample.csv\",index_col=0)\n",
    "# data = Database.query_db(\"select * from fannie_processed where loan_id = '000097568237'\")\n",
    "# data = data.set_index(\"monthly_reporting_period\").sort_index()\n",
    "# data = pd.read_csv(r\"C:\\Projects\\GitHub\\Leela\\leela\\research\\Nikita\\data\\30_yr.csv\", index_col=0)\n",
    "# data = data.set_index(\"monthly_reporting_period\")"
   ]
  },
  {
   "cell_type": "code",
   "execution_count": 9,
   "metadata": {},
   "outputs": [],
   "source": [
    "# data[\"upb_at_issuance\"].isna().sum()"
   ]
  },
  {
   "cell_type": "code",
   "execution_count": 10,
   "metadata": {},
   "outputs": [],
   "source": [
    "# dropped_columns = [\"reference_pool_id\", \"master_servicer\", \n",
    "                #   \"mortgage_margin\", 'upb_at_issuance', 'channel', 'seller_name']\n",
    "# data[[x for x in data.columns if x not in dropped_columns]]"
   ]
  },
  {
   "cell_type": "code",
   "execution_count": 11,
   "metadata": {},
   "outputs": [],
   "source": [
    "# print(list(data.columns))"
   ]
  },
  {
   "cell_type": "code",
   "execution_count": 12,
   "metadata": {},
   "outputs": [],
   "source": [
    "# sample = data[data[\"loan_id\"] == 99761926].copy().sort_index()\n",
    "# smm_columns = [\"current_actual_upb\", \"original_upb\", \"scheduled_principcal_current\", \"total_principal_current\", \"unscheduled_principal_current\"]\n",
    "# sample[smm_columns]"
   ]
  },
  {
   "cell_type": "code",
   "execution_count": 13,
   "metadata": {},
   "outputs": [],
   "source": [
    "# def get_null_row_counts(data, column):\n",
    "#     print(\"NaN Row Count: \", data[\"scheduled_principcal_current\"].isna().sum())\n",
    "#     print(\"Total Row Count: \", len(data))\n",
    "\n",
    "# print(data[\"scheduled_principcal_current\"].isna().sum())\n",
    "# print(len(data))"
   ]
  },
  {
   "cell_type": "code",
   "execution_count": 14,
   "metadata": {},
   "outputs": [],
   "source": [
    "# data[\"mortgage_insurance_pct\"].groupby(\"monthly_reporting_period\").mean().plot()"
   ]
  },
  {
   "cell_type": "code",
   "execution_count": null,
   "metadata": {},
   "outputs": [],
   "source": []
  }
 ],
 "metadata": {
  "kernelspec": {
   "display_name": "Python 3.10.4 ('leela')",
   "language": "python",
   "name": "python3"
  },
  "language_info": {
   "codemirror_mode": {
    "name": "ipython",
    "version": 3
   },
   "file_extension": ".py",
   "mimetype": "text/x-python",
   "name": "python",
   "nbconvert_exporter": "python",
   "pygments_lexer": "ipython3",
   "version": "3.10.4"
  },
  "orig_nbformat": 4,
  "vscode": {
   "interpreter": {
    "hash": "d27d67f8d03d6b97a81bd4c9ed2f6182c566b288050511c131cec6a6c696d41c"
   }
  }
 },
 "nbformat": 4,
 "nbformat_minor": 2
}
